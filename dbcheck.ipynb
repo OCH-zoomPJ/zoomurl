{
 "cells": [
  {
   "cell_type": "code",
   "execution_count": 2,
   "id": "c09188ea",
   "metadata": {},
   "outputs": [
    {
     "name": "stdout",
     "output_type": "stream",
     "text": [
      "[('0rjlak1ejhr6of0h7450h7fkr7', 'TESTミーティング！', 'zoom\\n説明テスト', 20220207110000, 20220207120000, 10000, '81347140819', 'TTuHBqzmVb', 'https://us05web.zoom.us/j/81347140819?pwd=RjZSRHpqclgxZ3M3dklUY05xNjhZUT09')]\n"
     ]
    }
   ],
   "source": [
    "import sqlite3\n",
    "con = sqlite3.connect('zoom_url.db')\n",
    "cur = con.cursor()\n",
    "# zoom_url\n",
    "# reservation_zoomData\n",
    "cur.execute('SELECT * FROM reservation_zoomData;')\n",
    "test = cur.fetchall()\n",
    "print(test)"
   ]
  },
  {
   "cell_type": "code",
   "execution_count": null,
   "id": "1646f6fb",
   "metadata": {},
   "outputs": [],
   "source": []
  },
  {
   "cell_type": "code",
   "execution_count": null,
   "id": "52060636",
   "metadata": {},
   "outputs": [],
   "source": []
  }
 ],
 "metadata": {
  "kernelspec": {
   "display_name": "Python 3 (ipykernel)",
   "language": "python",
   "name": "python3"
  },
  "language_info": {
   "codemirror_mode": {
    "name": "ipython",
    "version": 3
   },
   "file_extension": ".py",
   "mimetype": "text/x-python",
   "name": "python",
   "nbconvert_exporter": "python",
   "pygments_lexer": "ipython3",
   "version": "3.9.7"
  }
 },
 "nbformat": 4,
 "nbformat_minor": 5
}
